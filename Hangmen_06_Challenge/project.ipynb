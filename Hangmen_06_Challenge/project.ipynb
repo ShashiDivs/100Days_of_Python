{
 "cells": [
  {
   "cell_type": "code",
   "execution_count": 1,
   "metadata": {},
   "outputs": [
    {
     "name": "stdout",
     "output_type": "stream",
     "text": [
      "hello world\n"
     ]
    }
   ],
   "source": [
    "print(\"hello world\")"
   ]
  },
  {
   "cell_type": "code",
   "execution_count": 2,
   "metadata": {},
   "outputs": [
    {
     "name": "stdout",
     "output_type": "stream",
     "text": [
      "ardvark\n"
     ]
    }
   ],
   "source": [
    "import random\n",
    "\n",
    "word_list = ['ardvark','baboon','camel']\n",
    "\n",
    "chosen_word = random.choice(word_list)\n",
    "\n",
    "print(chosen_word)"
   ]
  },
  {
   "cell_type": "code",
   "execution_count": 3,
   "metadata": {},
   "outputs": [
    {
     "name": "stdout",
     "output_type": "stream",
     "text": [
      "Wrong\n",
      "Right\n",
      "Wrong\n",
      "Wrong\n",
      "Wrong\n",
      "Wrong\n"
     ]
    }
   ],
   "source": [
    "guess = input(\"Guess a Letter: \").lower()\n",
    "\n",
    "for letter in chosen_word:\n",
    "    if letter == guess:\n",
    "        print(\"Right\")\n",
    "    else:\n",
    "        print(\"Wrong\")"
   ]
  },
  {
   "cell_type": "code",
   "execution_count": 15,
   "metadata": {},
   "outputs": [
    {
     "name": "stdout",
     "output_type": "stream",
     "text": [
      "['_', '_', '_', '_', '_', '_', '_']\n"
     ]
    }
   ],
   "source": [
    "display = []\n",
    "for _ in range(len(chosen_word)):\n",
    "    display+=\"_\"\n",
    "print(display)"
   ]
  },
  {
   "cell_type": "code",
   "execution_count": 2,
   "metadata": {},
   "outputs": [
    {
     "name": "stdout",
     "output_type": "stream",
     "text": [
      "['_', '_', '_', '_', '_', '_']\n",
      "baboon\n"
     ]
    }
   ],
   "source": [
    "import random\n",
    "word_list = ['ardvark','baboon','camel']\n",
    "chosen_word = random.choice(word_list)\n",
    "\n",
    "display = []\n",
    "word_length = len(chosen_word)\n",
    "for _ in range(word_length):\n",
    "    display +=\"_\"\n",
    "\n",
    "guess = input(\"Guess a letter: \").lower()\n",
    "for position in range(word_length):\n",
    "    letter = chosen_word[position]\n",
    "    if letter == guess:\n",
    "        display[position] = letter\n",
    "\n",
    "print(display)\n",
    "print(chosen_word)\n"
   ]
  },
  {
   "cell_type": "code",
   "execution_count": 3,
   "metadata": {},
   "outputs": [
    {
     "name": "stdout",
     "output_type": "stream",
     "text": [
      "_ a _ _ _ _\n",
      "Wrong guess. Try again.\n",
      "_ a _ _ _ _\n",
      "Please enter a single letter.\n",
      "_ a _ _ _ _\n"
     ]
    }
   ],
   "source": [
    "import random\n",
    "\n",
    "word_list = ['ardvark', 'baboon', 'camel']\n",
    "chosen_word = random.choice(word_list)\n",
    "word_length = len(chosen_word)\n",
    "\n",
    "display = [\"_\" for _ in range(word_length)]\n",
    "\n",
    "while \"_\" in display:\n",
    "    guess = input(\"Guess a letter: \").lower()\n",
    "    if len(guess) != 1:\n",
    "        print(\"Please enter a single letter.\")\n",
    "\n",
    "    if guess in chosen_word:\n",
    "        for position in range(word_length):\n",
    "            if chosen_word[position] == guess:\n",
    "                display[position] = guess\n",
    "    else:\n",
    "        print(\"Wrong guess. Try again.\")\n",
    "\n",
    "    print(\" \".join(display))\n",
    "\n",
    "print(f\"Congratulations! You've guessed the word: {chosen_word}\")\n"
   ]
  },
  {
   "cell_type": "code",
   "execution_count": 1,
   "metadata": {},
   "outputs": [
    {
     "name": "stdout",
     "output_type": "stream",
     "text": [
      "Please enter a single letter.\n",
      "a _ _ _ a _ _\n",
      "a _ _ _ a _ _\n",
      "The word was: ardvark\n"
     ]
    }
   ],
   "source": [
    "import random\n",
    "\n",
    "word_list = ['ardvark', 'baboon', 'camel']\n",
    "chosen_word = random.choice(word_list)\n",
    "word_length = len(chosen_word)\n",
    "\n",
    "display = [\"_\" for _ in range(word_length)]\n",
    "\n",
    "while \"_\" in display:\n",
    "    guess = input(\"Guess a letter or type 'quit' to stop: \").lower()\n",
    "    \n",
    "    if guess == 'quit':\n",
    "        print(f\"The word was: {chosen_word}\")\n",
    "        break  # Exit the loop if the player chooses to quit.\n",
    "    \n",
    "    if len(guess) != 1:\n",
    "        print(\"Please enter a single letter.\")\n",
    "        continue\n",
    "\n",
    "    if guess in chosen_word:\n",
    "        for position in range(word_length):\n",
    "            if chosen_word[position] == guess:\n",
    "                display[position] = guess\n",
    "    else:\n",
    "        print(\"Wrong guess. Try again.\")\n",
    "\n",
    "    print(\" \".join(display))\n",
    "\n",
    "if \"_\" not in display:\n",
    "    print(f\"Congratulations! You've guessed the word: {chosen_word}\")\n"
   ]
  },
  {
   "cell_type": "code",
   "execution_count": 2,
   "metadata": {},
   "outputs": [
    {
     "name": "stdout",
     "output_type": "stream",
     "text": [
      "['a', '_', '_', '_', 'a', '_', '_']\n",
      "ardvark\n"
     ]
    }
   ],
   "source": [
    "import random\n",
    "word_list = ['ardvark','baboon','camel']\n",
    "chosen_word = random.choice(word_list)\n",
    "\n",
    "display = []\n",
    "word_length = len(chosen_word)\n",
    "for _ in range(word_length):\n",
    "    display +=\"_\"\n",
    "\n",
    "guess = input(\"Guess a letter: \").lower()\n",
    "for position in range(word_length):\n",
    "    letter = chosen_word[position]\n",
    "    if letter == guess:\n",
    "        display[position] = letter\n",
    "\n",
    "print(display)\n",
    "print(chosen_word)"
   ]
  },
  {
   "cell_type": "code",
   "execution_count": 5,
   "metadata": {},
   "outputs": [
    {
     "name": "stdout",
     "output_type": "stream",
     "text": [
      "['_', '_', '_', '_', '_', '_']\n",
      "['_', '_', '_', '_', '_', '_']\n",
      "['_', '_', '_', '_', '_', '_']\n",
      "['_', '_', '_', '_', '_', '_']\n",
      "['_', '_', '_', '_', '_', '_']\n",
      "['_', '_', '_', '_', '_', '_']\n",
      "['_', 'a', '_', '_', '_', '_']\n",
      "['b', 'a', 'b', '_', '_', '_']\n",
      "['b', 'a', 'b', 'o', 'o', '_']\n",
      "['b', 'a', 'b', 'o', 'o', 'n']\n",
      "You Won!!\n"
     ]
    }
   ],
   "source": [
    "import random\n",
    "word_list = ['ardvark','baboon','camel']\n",
    "chosen_word = random.choice(word_list)\n",
    "\n",
    "display = []\n",
    "word_length = len(chosen_word)\n",
    "for _ in range(word_length):\n",
    "    display +=\"_\"\n",
    "\n",
    "end_of_game = False\n",
    "while not end_of_game:\n",
    "    guess = input(\"Guess a letter: \").lower()\n",
    "    for position in range(word_length):\n",
    "        letter = chosen_word[position]\n",
    "        if letter == guess:\n",
    "            display[position] = letter\n",
    "\n",
    "    print(display)\n",
    "\n",
    "    if \"_\" not in display:\n",
    "        end_of_game =True\n",
    "        print(\"You Won!!\")"
   ]
  }
 ],
 "metadata": {
  "kernelspec": {
   "display_name": "Python 3.8.10 64-bit",
   "language": "python",
   "name": "python3"
  },
  "language_info": {
   "codemirror_mode": {
    "name": "ipython",
    "version": 3
   },
   "file_extension": ".py",
   "mimetype": "text/x-python",
   "name": "python",
   "nbconvert_exporter": "python",
   "pygments_lexer": "ipython3",
   "version": "3.8.10"
  },
  "orig_nbformat": 4,
  "vscode": {
   "interpreter": {
    "hash": "e7370f93d1d0cde622a1f8e1c04877d8463912d04d973331ad4851f04de6915a"
   }
  }
 },
 "nbformat": 4,
 "nbformat_minor": 2
}
