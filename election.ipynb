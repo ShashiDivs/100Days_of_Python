{
 "cells": [
  {
   "cell_type": "code",
   "execution_count": 4,
   "metadata": {},
   "outputs": [
    {
     "name": "stdout",
     "output_type": "stream",
     "text": [
      "hello world\n"
     ]
    }
   ],
   "source": [
    "print(\"hello world\")"
   ]
  },
  {
   "cell_type": "code",
   "execution_count": null,
   "metadata": {},
   "outputs": [],
   "source": [
    "class Candidate:\n",
    "\n",
    "    def __init__(self,name)\n",
    "        self.name = name\n",
    "        self.votes = 0\n",
    "\n",
    "    def add_votes(self):\n",
    "        self.votes +=1\n",
    "\n",
    "    \n",
    "    def __str__(self):\n",
    "        return f\"Candidate :{self.name}, Votes : {self.votes}\"\n",
    "\n",
    "\n"
   ]
  },
  {
   "cell_type": "code",
   "execution_count": null,
   "metadata": {},
   "outputs": [],
   "source": [
    "class VotingSystem:\n",
    "\n",
    "    def __init__(self):\n",
    "        self.candidates = []\n",
    "\n",
    "    \n",
    "    def add_candidate(self,candidate):\n",
    "        self.candidate.append(candidate)\n",
    "\n",
    "\n",
    "    def vote(self, candidate_name):\n",
    "\n",
    "        for candidate in self.candidates:\n",
    "            if candidate.name == candidate.name:\n",
    "                candidate.add_votes()\n",
    "        return print(f\"No candidate found with the name {candidate_name}.\")     \n",
    "\n",
    "    def show_results(self):\n",
    "        for candidate in self.candidates:\n",
    "            print(candidate) "
   ]
  },
  {
   "cell_type": "code",
   "execution_count": null,
   "metadata": {},
   "outputs": [],
   "source": [
    "def main():\n",
    "    # Create a voting system\n",
    "    voting_system = VotingSystem()\n",
    "\n",
    "    # Add candidates\n",
    "    for name in [\"Alice\", \"Bob\", \"Charlie\", \"Diana\", \"Evan\"]:\n",
    "        voting_system.add_candidate(Candidate(name))\n",
    "\n",
    "    # Simulate voting\n",
    "    print(\"Vote for a candidate by typing their name. Type 'exit' to finish.\")\n",
    "    while True:\n",
    "        vote = input(\"Vote for: \").capitalize()\n",
    "        if vote == 'Exit':\n",
    "            break\n",
    "        voting_system.vote(vote)\n",
    "\n",
    "    # Show results\n",
    "    print(\"\\nElection Results:\")\n",
    "    voting_system.show_results()\n",
    "\n",
    "if __name__ == \"__main__\":\n",
    "    main()\n"
   ]
  }
 ],
 "metadata": {
  "kernelspec": {
   "display_name": "Python 3.8.10 64-bit",
   "language": "python",
   "name": "python3"
  },
  "language_info": {
   "codemirror_mode": {
    "name": "ipython",
    "version": 3
   },
   "file_extension": ".py",
   "mimetype": "text/x-python",
   "name": "python",
   "nbconvert_exporter": "python",
   "pygments_lexer": "ipython3",
   "version": "3.8.10"
  },
  "orig_nbformat": 4,
  "vscode": {
   "interpreter": {
    "hash": "e7370f93d1d0cde622a1f8e1c04877d8463912d04d973331ad4851f04de6915a"
   }
  }
 },
 "nbformat": 4,
 "nbformat_minor": 2
}
